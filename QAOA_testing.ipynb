{
  "cells": [
    {
      "cell_type": "code",
      "execution_count": 23,
      "metadata": {
        "trusted": true
      },
      "outputs": [
        {
          "name": "stderr",
          "output_type": "stream",
          "text": "Credentials are already in use. The existing account in the session will be replaced.\n"
        }
      ],
      "source": "%matplotlib inline\n# Importing standard Qiskit libraries and configuring account\nfrom qiskit import QuantumCircuit, execute, Aer, IBMQ\nfrom qiskit.compiler import transpile, assemble\nfrom qiskit.tools.jupyter import *\nfrom qiskit.visualization import *\n# Loading your IBM Q account(s)\nprovider = IBMQ.load_account()"
    },
    {
      "cell_type": "code",
      "execution_count": 26,
      "metadata": {
        "trusted": true
      },
      "outputs": [
        {
          "name": "stderr",
          "output_type": "stream",
          "text": "Credentials are already in use. The existing account in the session will be replaced.\n"
        }
      ],
      "source": "from collections import OrderedDict\nimport numpy as np\nfrom qiskit.quantum_info import Pauli\nfrom qiskit.aqua import operators\nfrom qiskit.quantum_info import *\nfrom qiskit.aqua.algorithms.adaptive import QAOA\nfrom qiskit.aqua.components.optimizers import *\nfrom qiskit.aqua import QuantumInstance\nimport networkx as nx\nfrom qiskit.aqua import get_aer_backend\n\ndef sample_most_likely(state_vector):\n    if isinstance(state_vector, dict) or isinstance(state_vector, OrderedDict):\n        binary_string = sorted(state_vector.items(), key=lambda kv: kv[1])[-1][0]\n        x = np.asarray([int(y) for y in reversed(list(binary_string))])\n        return x\n    else:\n        n = int(np.log2(state_vector.shape[0]))\n        k = np.argmax(np.abs(state_vector))\n        x = np.zeros(n)\n        for i in range(n):\n            x[i] = k % 2\n            k >>= 1\n        return x\ndef get_qubitops(input):\n    w = np.array(input.tolist())\n    num_nodes = len(w)\n    pauli_list = []\n    shift = 0\n    for i in range(num_nodes):\n        for j in range(i+1, num_nodes):\n            if w[i, j] != 0:\n                xp = np.zeros(num_nodes, dtype=np.bool)\n                zp = np.zeros(num_nodes, dtype=np.bool)\n                zp[i] = True\n                zp[j] = True\n                pauli_list.append([w[i, j], Pauli(zp, xp)])\n                shift += 1\n    for i in range(num_nodes):\n        degree = np.sum(w[i, :])\n        xp = np.zeros(num_nodes, dtype=np.bool)\n        zp = np.zeros(num_nodes, dtype=np.bool)\n        zp[i] = True\n        pauli_list.append([w[i, i], Pauli(zp, xp)])\n    return Operator(paulis=pauli_list)\n\nfrom qiskit import IBMQ\nIBMQ.load_account()\n\ndef get_backend(backend_str):\n    if backend_str == 'qasm_simulator':\n        backend = get_aer_backend(backend_str)\n    elif backend_str == 'ibmq_16_melbourne' or backend_str == 'ibmqx4':\n        backend = IBMQ.get_backend(backend_str)\n    else:\n        print(\"Choose a valid backend\")\n        return\n    return backend\n\ndef solve_ibmqx_ising_qubo(G, matrix_func, optimizer, p, backend_str='qasm_simulator'):\n        backend = get_backend(backend_str)\n        w = matrix_func(G)\n        ops = get_qubitops(w)\n        qaoa = QAOA(ops, optimizer, p, operator_mode='paulis')\n        quantum_instance = QuantumInstance(backend)\n        result = qaoa.run(quantum_instance)\n        x = sample_most_likely(result['eigvecs'][0])\n        return x"
    },
    {
      "cell_type": "code",
      "execution_count": 25,
      "metadata": {
        "trusted": true
      },
      "outputs": [
        {
          "name": "stdout",
          "output_type": "stream",
          "text": "maxcut\n"
        },
        {
          "ename": "NameError",
          "evalue": "name 'Operator' is not defined",
          "output_type": "error",
          "traceback": [
            "\u001b[0;31m---------------------------------------------------------------------------\u001b[0m",
            "\u001b[0;31mNameError\u001b[0m                                 Traceback (most recent call last)",
            "\u001b[0;32m<ipython-input-25-c0c73fa9bfeb>\u001b[0m in \u001b[0;36m<module>\u001b[0;34m\u001b[0m\n\u001b[1;32m     50\u001b[0m \u001b[0;32mfor\u001b[0m \u001b[0mr\u001b[0m \u001b[0;32min\u001b[0m \u001b[0mrange\u001b[0m\u001b[0;34m(\u001b[0m\u001b[0;36m1\u001b[0m\u001b[0;34m,\u001b[0m \u001b[0;36m20\u001b[0m\u001b[0;34m)\u001b[0m\u001b[0;34m:\u001b[0m\u001b[0;34m\u001b[0m\u001b[0;34m\u001b[0m\u001b[0m\n\u001b[1;32m     51\u001b[0m     \u001b[0mG\u001b[0m \u001b[0;34m=\u001b[0m \u001b[0mnx\u001b[0m\u001b[0;34m.\u001b[0m\u001b[0mgnp_random_graph\u001b[0m\u001b[0;34m(\u001b[0m\u001b[0;36m7\u001b[0m\u001b[0;34m,\u001b[0m \u001b[0;36m0.5\u001b[0m\u001b[0;34m,\u001b[0m \u001b[0;36m101\u001b[0m\u001b[0;34m)\u001b[0m\u001b[0;34m\u001b[0m\u001b[0;34m\u001b[0m\u001b[0m\n\u001b[0;32m---> 52\u001b[0;31m     \u001b[0mres\u001b[0m \u001b[0;34m=\u001b[0m \u001b[0mibqmx_qaoa\u001b[0m\u001b[0;34m(\u001b[0m\u001b[0mG\u001b[0m\u001b[0;34m,\u001b[0m \u001b[0mSLSQP\u001b[0m\u001b[0;34m(\u001b[0m\u001b[0;34m)\u001b[0m\u001b[0;34m,\u001b[0m \u001b[0mmax_cut_qubo_matrix_ibmqx\u001b[0m\u001b[0;34m,\u001b[0m \u001b[0mr\u001b[0m\u001b[0;34m)\u001b[0m\u001b[0;34m\u001b[0m\u001b[0;34m\u001b[0m\u001b[0m\n\u001b[0m\u001b[1;32m     53\u001b[0m     \u001b[0mout\u001b[0m\u001b[0;34m.\u001b[0m\u001b[0mappend\u001b[0m\u001b[0;34m(\u001b[0m\u001b[0mres\u001b[0m\u001b[0;34m)\u001b[0m\u001b[0;34m\u001b[0m\u001b[0;34m\u001b[0m\u001b[0m\n\u001b[1;32m     54\u001b[0m     \u001b[0mprint\u001b[0m\u001b[0;34m(\u001b[0m\u001b[0mout\u001b[0m\u001b[0;34m)\u001b[0m\u001b[0;34m\u001b[0m\u001b[0;34m\u001b[0m\u001b[0m\n",
            "\u001b[0;32m<ipython-input-25-c0c73fa9bfeb>\u001b[0m in \u001b[0;36mibqmx_qaoa\u001b[0;34m(G, optimizer, func, r)\u001b[0m\n\u001b[1;32m     34\u001b[0m         \u001b[0;32mfor\u001b[0m \u001b[0mavg\u001b[0m \u001b[0;32min\u001b[0m \u001b[0mrange\u001b[0m\u001b[0;34m(\u001b[0m\u001b[0;36m0\u001b[0m\u001b[0;34m,\u001b[0m \u001b[0;36m100\u001b[0m\u001b[0;34m)\u001b[0m\u001b[0;34m:\u001b[0m\u001b[0;34m\u001b[0m\u001b[0;34m\u001b[0m\u001b[0m\n\u001b[1;32m     35\u001b[0m             \u001b[0mcounter\u001b[0m \u001b[0;34m+=\u001b[0m \u001b[0;36m1\u001b[0m\u001b[0;34m\u001b[0m\u001b[0;34m\u001b[0m\u001b[0m\n\u001b[0;32m---> 36\u001b[0;31m             \u001b[0mresult_out\u001b[0m \u001b[0;34m=\u001b[0m \u001b[0msolve_ibmqx_ising_qubo\u001b[0m\u001b[0;34m(\u001b[0m\u001b[0mG\u001b[0m\u001b[0;34m,\u001b[0m \u001b[0mfunc\u001b[0m\u001b[0;34m,\u001b[0m \u001b[0moptimizer\u001b[0m\u001b[0;34m,\u001b[0m \u001b[0mr\u001b[0m\u001b[0;34m)\u001b[0m\u001b[0;34m\u001b[0m\u001b[0;34m\u001b[0m\u001b[0m\n\u001b[0m\u001b[1;32m     37\u001b[0m             \u001b[0mresult2\u001b[0m \u001b[0;34m=\u001b[0m \u001b[0;34m[\u001b[0m\u001b[0;34m]\u001b[0m\u001b[0;34m\u001b[0m\u001b[0;34m\u001b[0m\u001b[0m\n\u001b[1;32m     38\u001b[0m             \u001b[0;32mfor\u001b[0m \u001b[0mi\u001b[0m \u001b[0;32min\u001b[0m \u001b[0mresult_out\u001b[0m\u001b[0;34m:\u001b[0m\u001b[0;34m\u001b[0m\u001b[0;34m\u001b[0m\u001b[0m\n",
            "\u001b[0;32m<ipython-input-24-ea2a84f8f90a>\u001b[0m in \u001b[0;36msolve_ibmqx_ising_qubo\u001b[0;34m(G, matrix_func, optimizer, p, backend_str)\u001b[0m\n\u001b[1;32m     60\u001b[0m         \u001b[0mbackend\u001b[0m \u001b[0;34m=\u001b[0m \u001b[0mget_backend\u001b[0m\u001b[0;34m(\u001b[0m\u001b[0mbackend_str\u001b[0m\u001b[0;34m)\u001b[0m\u001b[0;34m\u001b[0m\u001b[0;34m\u001b[0m\u001b[0m\n\u001b[1;32m     61\u001b[0m         \u001b[0mw\u001b[0m \u001b[0;34m=\u001b[0m \u001b[0mmatrix_func\u001b[0m\u001b[0;34m(\u001b[0m\u001b[0mG\u001b[0m\u001b[0;34m)\u001b[0m\u001b[0;34m\u001b[0m\u001b[0;34m\u001b[0m\u001b[0m\n\u001b[0;32m---> 62\u001b[0;31m         \u001b[0mops\u001b[0m \u001b[0;34m=\u001b[0m \u001b[0mget_qubitops\u001b[0m\u001b[0;34m(\u001b[0m\u001b[0mw\u001b[0m\u001b[0;34m)\u001b[0m\u001b[0;34m\u001b[0m\u001b[0;34m\u001b[0m\u001b[0m\n\u001b[0m\u001b[1;32m     63\u001b[0m         \u001b[0mqaoa\u001b[0m \u001b[0;34m=\u001b[0m \u001b[0mQAOA\u001b[0m\u001b[0;34m(\u001b[0m\u001b[0mops\u001b[0m\u001b[0;34m,\u001b[0m \u001b[0moptimizer\u001b[0m\u001b[0;34m,\u001b[0m \u001b[0mp\u001b[0m\u001b[0;34m,\u001b[0m \u001b[0moperator_mode\u001b[0m\u001b[0;34m=\u001b[0m\u001b[0;34m'paulis'\u001b[0m\u001b[0;34m)\u001b[0m\u001b[0;34m\u001b[0m\u001b[0;34m\u001b[0m\u001b[0m\n\u001b[1;32m     64\u001b[0m         \u001b[0mquantum_instance\u001b[0m \u001b[0;34m=\u001b[0m \u001b[0mQuantumInstance\u001b[0m\u001b[0;34m(\u001b[0m\u001b[0mbackend\u001b[0m\u001b[0;34m)\u001b[0m\u001b[0;34m\u001b[0m\u001b[0;34m\u001b[0m\u001b[0m\n",
            "\u001b[0;32m<ipython-input-24-ea2a84f8f90a>\u001b[0m in \u001b[0;36mget_qubitops\u001b[0;34m(input)\u001b[0m\n\u001b[1;32m     42\u001b[0m         \u001b[0mzp\u001b[0m\u001b[0;34m[\u001b[0m\u001b[0mi\u001b[0m\u001b[0;34m]\u001b[0m \u001b[0;34m=\u001b[0m \u001b[0;32mTrue\u001b[0m\u001b[0;34m\u001b[0m\u001b[0;34m\u001b[0m\u001b[0m\n\u001b[1;32m     43\u001b[0m         \u001b[0mpauli_list\u001b[0m\u001b[0;34m.\u001b[0m\u001b[0mappend\u001b[0m\u001b[0;34m(\u001b[0m\u001b[0;34m[\u001b[0m\u001b[0mw\u001b[0m\u001b[0;34m[\u001b[0m\u001b[0mi\u001b[0m\u001b[0;34m,\u001b[0m \u001b[0mi\u001b[0m\u001b[0;34m]\u001b[0m\u001b[0;34m,\u001b[0m \u001b[0mPauli\u001b[0m\u001b[0;34m(\u001b[0m\u001b[0mzp\u001b[0m\u001b[0;34m,\u001b[0m \u001b[0mxp\u001b[0m\u001b[0;34m)\u001b[0m\u001b[0;34m]\u001b[0m\u001b[0;34m)\u001b[0m\u001b[0;34m\u001b[0m\u001b[0;34m\u001b[0m\u001b[0m\n\u001b[0;32m---> 44\u001b[0;31m     \u001b[0;32mreturn\u001b[0m \u001b[0mOperator\u001b[0m\u001b[0;34m(\u001b[0m\u001b[0mpaulis\u001b[0m\u001b[0;34m=\u001b[0m\u001b[0mpauli_list\u001b[0m\u001b[0;34m)\u001b[0m\u001b[0;34m\u001b[0m\u001b[0;34m\u001b[0m\u001b[0m\n\u001b[0m\u001b[1;32m     45\u001b[0m \u001b[0;34m\u001b[0m\u001b[0m\n\u001b[1;32m     46\u001b[0m \u001b[0;32mfrom\u001b[0m \u001b[0mqiskit\u001b[0m \u001b[0;32mimport\u001b[0m \u001b[0mIBMQ\u001b[0m\u001b[0;34m\u001b[0m\u001b[0;34m\u001b[0m\u001b[0m\n",
            "\u001b[0;31mNameError\u001b[0m: name 'Operator' is not defined"
          ]
        }
      ],
      "source": "import os\nimport sys\nd = os.path.dirname(os.getcwd())+'/utils'\nsys.path.append(d)\n#from graphs import *\n#from qubo_ising_generators import *\n#from classical_solvers import *\nimport networkx as nx\nimport numpy as np\nimport time\nimport warnings\nwarnings.filterwarnings(\"ignore\")\n\ndef maximum_cut_qubo_dwave(G):\n        Q = {}\n        for a in list(G.edges()):\n                Q[a] = 2\n        for i in list(G.nodes()):\n                Q[(i, i)] = -1*G.degree(i)\n        return Q\n\ndef max_cut_qubo_matrix_ibmqx(G):\n        qubo = maximum_cut_qubo_dwave(G)\n        data = np.zeros((len(G), len(G)))\n        for a in qubo:\n                data[a[0], a[1]] = qubo[a]\n                data[a[1], a[0]] = qubo[a]\n        return data\n\ndef ibqmx_qaoa(G, optimizer, func, r):\n        app_ratio = 0\n        qubo_main = []\n        counter = 0\n        for avg in range(0, 100):\n            counter += 1\n            result_out = solve_ibmqx_ising_qubo(G, func, optimizer, r)\n            result2 = []\n            for i in result_out:\n                  if i == 0:\n                        result2.append(1)\n                  if i == 1:\n                        result2.append(0)\n            x = max_cut_value(result2, G)\n            qubo_main.append(x)\n            app_ratio += x\n            print(float(app_ratio)/float(counter))\n\nprint('maxcut')\nout = []\nfor r in range(1, 20):\n    G = nx.gnp_random_graph(7, 0.5, 101)\n    res = ibqmx_qaoa(G, SLSQP(), max_cut_qubo_matrix_ibmqx, r)\n    out.append(res)\n    print(out)"
    }
  ],
  "metadata": {
    "kernelspec": {
      "display_name": "Python 3",
      "language": "python",
      "name": "python3"
    },
    "language_info": {
      "codemirror_mode": {
        "name": "ipython",
        "version": 3
      },
      "file_extension": ".py",
      "mimetype": "text/x-python",
      "name": "python",
      "nbconvert_exporter": "python",
      "pygments_lexer": "ipython3",
      "version": "3.7.6"
    }
  },
  "nbformat": 4,
  "nbformat_minor": 4
}