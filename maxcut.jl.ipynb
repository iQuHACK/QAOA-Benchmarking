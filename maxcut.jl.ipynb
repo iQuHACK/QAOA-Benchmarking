{
 "cells": [
  {
   "cell_type": "code",
   "execution_count": 10,
   "metadata": {},
   "outputs": [
    {
     "data": {
      "text/plain": [
       "maxcut (generic function with 1 method)"
      ]
     },
     "execution_count": 10,
     "metadata": {},
     "output_type": "execute_result"
    }
   ],
   "source": [
    "using LinearAlgebra\n",
    "using Convex\n",
    "using SCS\n",
    "\n",
    "\"The Goemans-Williamson algorithm for the MAXCUT problem.\"\n",
    "\"https://github.com/ericproffitt/maxcut.jl\"\n",
    "\n",
    "function maxcut(W::Matrix{<:Real}; iter::Int=100, tol::Real=1e-1)\n",
    "    \"Partition a graph into two disjoint sets such that the sum of the edge weights\n",
    "    which cross the partition is as large as possible (known to be NP-hard).\"\n",
    "\n",
    "    \"A cut of a graph can be produced by assigning either 1 or -1 to each vertex. The Goemans-Williamson \n",
    "    algorithm relaxes this binary condition to allow for vector assignments drawn from the (n-1)-sphere\n",
    "    (choosing an n-1 dimensional space will ensure seperability). This relaxation can then be written as \n",
    "    an semidefinite program. Once the optimal vector assignments are found, origin centered hyperplanes are generated and \n",
    "    their corresponding cuts evaluated. After 'iter' trials, or when the desired tolerance is reached,\n",
    "    the hyperplane with the highest corresponding binary cut is used to partition the vertices.\"\n",
    "    \n",
    "    \"W:     Adjacency matrix.\"\n",
    "    \"tol:   Maximum acceptable distance between a cut and the MAXCUT upper bound.\"\n",
    "    \"iter:  Maximum number of hyperplane iterations before a cut is chosen.\"\n",
    "\n",
    "    LinearAlgebra.checksquare(W)\n",
    "    issymmetric(W)\t\t\t\t\t|| throw(ArgumentError(\"Adjacency matrix must be symmetric.\"))\n",
    "    all(W .>= 0)\t\t\t\t\t|| throw(ArgumentError(\"Adjacency matrix must be nonnegative.\"))\n",
    "    all(iszero.(diag(W)))\t\t\t|| throw(ArgumentError(\"Diagonal of adjacency matrix must be zero (no self loops).\"))\n",
    "    (tol >= 0)\t\t\t\t\t\t|| throw(ArgumnetError(\"The tolerance must be nonnegative.\"))\n",
    "    (iter > 0)\t\t\t\t\t\t|| throw(ArgumnetError(\"The number of iterations must be a positive integer.\"))\n",
    "\n",
    "    \"This is the standard SDP Relaxation of the MAXCUT problem, a reference can be found at\n",
    "    http://www.sfu.ca/~mdevos/notes/semidef/GW.pdf.\"\n",
    "    k = size(W, 1)\n",
    "    S = Semidefinite(k)\n",
    "\n",
    "    expr = dot(W, S)\n",
    "    constr = [S[i,i] == 1.0 for i in 1:k]\n",
    "    problem = minimize(expr, constr...)\n",
    "    solve!(problem, SCSSolver(verbose=0))\n",
    "\n",
    "    ### Ensure symmetric positive-definite.\n",
    "    A = 0.5 * (S.value + S.value')\n",
    "    A += (max(0, -eigmin(A)) + 1e-14) * Matrix(I, size(A, 1), size(A, 1))\n",
    "    \n",
    "    X = Matrix(cholesky(A))\n",
    "\n",
    "    ### A non-trivial upper bound on MAXCUT.\n",
    "    upperbound = (sum(W) - dot(W, S.value)) / 4 \n",
    "\n",
    "    \"Random origin-centered hyperplanes, generated to produce partitions of the graph.\"\n",
    "    max_cut = 0\n",
    "    max_partition = nothing\n",
    "\n",
    "    for i in 1:iter\n",
    "        gweval = X' * randn(k)\n",
    "        partition = (findall(gweval .>= 0), findall(gweval .< 0))\n",
    "        cut = sum(W[partition...])\n",
    "\n",
    "        if cut > max_cut\n",
    "            max_partition = partition\n",
    "            max_cut = cut\n",
    "        end\n",
    "\n",
    "        (upperbound - max_cut < tol) && break\n",
    "        (i == iter) && println(\"Max iterations reached.\")\n",
    "    end\n",
    "    return round(max_cut, digits=3), max_partition\n",
    "end"
   ]
  },
  {
   "cell_type": "code",
   "execution_count": 6,
   "metadata": {},
   "outputs": [
    {
     "name": "stdout",
     "output_type": "stream",
     "text": [
      "\u001b[32m\u001b[1m Resolving\u001b[22m\u001b[39m package versions...\n",
      "\u001b[32m\u001b[1m Installed\u001b[22m\u001b[39m IniFile ──────────── v0.5.0\n",
      "\u001b[32m\u001b[1m Installed\u001b[22m\u001b[39m JSONSchema ───────── v0.2.0\n",
      "\u001b[32m\u001b[1m Installed\u001b[22m\u001b[39m CodecZlib ────────── v0.6.0\n",
      "\u001b[32m\u001b[1m Installed\u001b[22m\u001b[39m CodecBzip2 ───────── v0.6.0\n",
      "\u001b[32m\u001b[1m Installed\u001b[22m\u001b[39m SCS ──────────────── v0.6.4\n",
      "\u001b[32m\u001b[1m Installed\u001b[22m\u001b[39m HTTP ─────────────── v0.8.8\n",
      "\u001b[32m\u001b[1m Installed\u001b[22m\u001b[39m TranscodingStreams ─ v0.9.5\n",
      "\u001b[32m\u001b[1m Installed\u001b[22m\u001b[39m MathOptInterface ─── v0.9.10\n",
      "\u001b[32m\u001b[1m Installed\u001b[22m\u001b[39m MutableArithmetics ─ v0.2.2\n",
      "\u001b[32m\u001b[1m  Updating\u001b[22m\u001b[39m `~/.julia/environments/v1.0/Project.toml`\n",
      " \u001b[90m [c946c3f1]\u001b[39m\u001b[92m + SCS v0.6.4\u001b[39m\n",
      "\u001b[32m\u001b[1m  Updating\u001b[22m\u001b[39m `~/.julia/environments/v1.0/Manifest.toml`\n",
      " \u001b[90m [523fee87]\u001b[39m\u001b[92m + CodecBzip2 v0.6.0\u001b[39m\n",
      " \u001b[90m [944b1d66]\u001b[39m\u001b[92m + CodecZlib v0.6.0\u001b[39m\n",
      " \u001b[90m [cd3eb016]\u001b[39m\u001b[92m + HTTP v0.8.8\u001b[39m\n",
      " \u001b[90m [83e8ac13]\u001b[39m\u001b[92m + IniFile v0.5.0\u001b[39m\n",
      " \u001b[90m [7d188eb4]\u001b[39m\u001b[92m + JSONSchema v0.2.0\u001b[39m\n",
      " \u001b[90m [b8f27783]\u001b[39m\u001b[92m + MathOptInterface v0.9.10\u001b[39m\n",
      " \u001b[90m [d8a4904e]\u001b[39m\u001b[92m + MutableArithmetics v0.2.2\u001b[39m\n",
      " \u001b[90m [c946c3f1]\u001b[39m\u001b[92m + SCS v0.6.4\u001b[39m\n",
      " \u001b[90m [3bb67fe8]\u001b[39m\u001b[92m + TranscodingStreams v0.9.5\u001b[39m\n",
      "\u001b[32m\u001b[1m  Building\u001b[22m\u001b[39m CodecZlib ─→ `~/.julia/packages/CodecZlib/5t9zO/deps/build.log`\n",
      "\u001b[32m\u001b[1m  Building\u001b[22m\u001b[39m CodecBzip2 → `~/.julia/packages/CodecBzip2/T5yr7/deps/build.log`\n",
      "\u001b[32m\u001b[1m  Building\u001b[22m\u001b[39m SCS ───────→ `~/.julia/packages/SCS/kaB3C/deps/build.log`\n"
     ]
    }
   ],
   "source": [
    "using Pkg\n",
    "Pkg.add(\"SCS\")"
   ]
  },
  {
   "cell_type": "code",
   "execution_count": 4,
   "metadata": {},
   "outputs": [
    {
     "name": "stdout",
     "output_type": "stream",
     "text": [
      "\u001b[32m\u001b[1m  Updating\u001b[22m\u001b[39m registry at `~/.julia/registries/General`\n",
      "\u001b[32m\u001b[1m  Updating\u001b[22m\u001b[39m git-repo `https://github.com/JuliaRegistries/General.git`\n",
      "\u001b[?25l\u001b[2K\u001b[?25h\u001b[32m\u001b[1m Resolving\u001b[22m\u001b[39m package versions...\n",
      "\u001b[32m\u001b[1m Installed\u001b[22m\u001b[39m Compat ───────────── v2.2.0\n",
      "\u001b[32m\u001b[1m Installed\u001b[22m\u001b[39m MathProgBase ─────── v0.7.7\n",
      "\u001b[32m\u001b[1m Installed\u001b[22m\u001b[39m BenchmarkTools ───── v0.4.3\n",
      "\u001b[32m\u001b[1m Installed\u001b[22m\u001b[39m AbstractTrees ────── v0.2.1\n",
      "\u001b[32m\u001b[1m Installed\u001b[22m\u001b[39m OrderedCollections ─ v1.1.0\n",
      "\u001b[32m\u001b[1m Installed\u001b[22m\u001b[39m Convex ───────────── v0.12.6\n",
      "\u001b[32m\u001b[1m  Updating\u001b[22m\u001b[39m `~/.julia/environments/v1.0/Project.toml`\n",
      " \u001b[90m [f65535da]\u001b[39m\u001b[92m + Convex v0.12.6\u001b[39m\n",
      "\u001b[32m\u001b[1m  Updating\u001b[22m\u001b[39m `~/.julia/environments/v1.0/Manifest.toml`\n",
      " \u001b[90m [1520ce14]\u001b[39m\u001b[92m + AbstractTrees v0.2.1\u001b[39m\n",
      " \u001b[90m [6e4b80f9]\u001b[39m\u001b[92m + BenchmarkTools v0.4.3\u001b[39m\n",
      " \u001b[90m [34da2185]\u001b[39m\u001b[92m + Compat v2.2.0\u001b[39m\n",
      " \u001b[90m [f65535da]\u001b[39m\u001b[92m + Convex v0.12.6\u001b[39m\n",
      " \u001b[90m [fdba3010]\u001b[39m\u001b[92m + MathProgBase v0.7.7\u001b[39m\n",
      " \u001b[90m [bac558e1]\u001b[39m\u001b[92m + OrderedCollections v1.1.0\u001b[39m\n",
      " \u001b[90m [8bb1440f]\u001b[39m\u001b[92m + DelimitedFiles \u001b[39m\n",
      " \u001b[90m [1a1011a3]\u001b[39m\u001b[92m + SharedArrays \u001b[39m\n",
      " \u001b[90m [2f01184e]\u001b[39m\u001b[92m + SparseArrays \u001b[39m\n",
      " \u001b[90m [10745b16]\u001b[39m\u001b[92m + Statistics \u001b[39m\n"
     ]
    }
   ],
   "source": [
    "using Pkg\n",
    "Pkg.add(\"Convex\")"
   ]
  }
 ],
 "metadata": {
  "kernelspec": {
   "display_name": "Julia 1.0.0",
   "language": "julia",
   "name": "julia-1.0"
  },
  "language_info": {
   "file_extension": ".jl",
   "mimetype": "application/julia",
   "name": "julia",
   "version": "1.0.0"
  }
 },
 "nbformat": 4,
 "nbformat_minor": 2
}
